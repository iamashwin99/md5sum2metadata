{
 "metadata": {
  "language_info": {
   "codemirror_mode": {
    "name": "ipython",
    "version": 3
   },
   "file_extension": ".py",
   "mimetype": "text/x-python",
   "name": "python",
   "nbconvert_exporter": "python",
   "pygments_lexer": "ipython3",
   "version": "3.8.3-final"
  },
  "orig_nbformat": 2,
  "kernelspec": {
   "name": "python38364bit78b253baab34452c82528f50c849c4a8",
   "display_name": "Python 3.8.3 64-bit"
  }
 },
 "nbformat": 4,
 "nbformat_minor": 2,
 "cells": [
  {
   "cell_type": "code",
   "execution_count": 27,
   "metadata": {},
   "outputs": [],
   "source": [
    "##Imports\n",
    "import hashlib\n",
    "import os\n",
    "import requests\n",
    "from bs4 import BeautifulSoup \n",
    "import pandas as pd\n",
    "import pprint\n",
    "import subprocess\n",
    "from PyPDF2 import PdfFileReader, PdfFileMerger\n"
   ]
  },
  {
   "cell_type": "code",
   "execution_count": 28,
   "metadata": {},
   "outputs": [],
   "source": [
    "def getmd5sum(filename):\n",
    "\n",
    "    md5_hash = hashlib.md5()\n",
    "    a_file = open(filename, \"rb\")\n",
    "    content = a_file.read()\n",
    "    md5_hash.update(content)\n",
    "    digest = md5_hash.hexdigest()\n",
    "    return digest"
   ]
  },
  {
   "cell_type": "code",
   "execution_count": 29,
   "metadata": {},
   "outputs": [],
   "source": [
    "def getdatafrommd5(md5):\n",
    "    url ='http://gen.lib.rus.ec/book/index.php?md5=' +md5\n",
    "    page = requests.get(url) \n",
    "    contents = page.content \n",
    "    soup = BeautifulSoup(contents, 'html.parser')\n",
    "    a=soup.body.table.tbody\n",
    "    #a = soup.find(id='bibtext')\n",
    "    print(a)\n",
    "    return #[title, author, publisher, series, year]"
   ]
  },
  {
   "cell_type": "code",
   "execution_count": 30,
   "metadata": {},
   "outputs": [],
   "source": [
    "def getdatafrommd5v2(md5):\n",
    "    url ='http://gen.lib.rus.ec/book/index.php?md5=' +md5\n",
    "    print(url)\n",
    "    r = requests.get(url)\n",
    "    if(r.text == \"No record with such MD5 hash has been found</body></html>\"):\n",
    "        return  [-1, -1, -1, -1, -1]\n",
    "    df_list = pd.read_html(r.text) # this parses all the tables in webpages to a list\n",
    "    table = df_list[0]\n",
    "    title = table.loc[table[1] == 'Title:',2].tolist()[0]\n",
    "    author = table.loc[table[1] == 'Author(s):',2].tolist()[0]\n",
    "    publisher = table.loc[table[1] == 'Publisher:',2].tolist()[0]\n",
    "    series = table.loc[table[1] == 'Series:',2].tolist()[0]\n",
    "    year = table.loc[table[1] == 'Year:',2].tolist()[0]\n",
    "    return  [title, author, publisher, series, year]"
   ]
  },
  {
   "cell_type": "code",
   "execution_count": 31,
   "metadata": {},
   "outputs": [],
   "source": [
    "def setpdfmetadataOLD(file,title, author, publisher, series, year):\n",
    "    newfname='new_'+file\n",
    "    file_in = open(file, 'rb')\n",
    "    pdf_reader = PdfFileReader(file_in)\n",
    "    metadata = pdf_reader.getDocumentInfo()\n",
    "    pprint.pprint(metadata)\n",
    "\n",
    "    pdf_merger = PdfFileMerger()\n",
    "    pdf_merger.append(file_in)\n",
    "    pdf_merger.addMetadata({\n",
    "        u'/Author': author,\n",
    "        u'/Title': title,\n",
    "        u'/Publisher':str(publisher),\n",
    "        u'/Series':str(series),\n",
    "        u'/Year':str(year)\n",
    "    })\n",
    "    file_out = open(newfname, 'wb')\n",
    "    pdf_merger.write(file_out)\n",
    "    file_in.close()\n",
    "    file_out.close()\n",
    "  #  with open(file) as f:\n",
    "   #     f.fileinfo = {'title': title,'author':author,'publisher':publisher,'series':series,'year':year}\n",
    "\n",
    "\n"
   ]
  },
  {
   "cell_type": "code",
   "execution_count": 32,
   "metadata": {},
   "outputs": [],
   "source": [
    "#For file\n",
    "#get md5\n",
    "#get metadata \n",
    "#set metadata"
   ]
  },
  {
   "cell_type": "code",
   "execution_count": 41,
   "metadata": {},
   "outputs": [],
   "source": [
    "#exiftool -Title=\"This is the Title\" -Author=\"Happy Man\" -Year=\"1999\" -Publisher=\"me\" -SeriesName=\"wow\" a.djvu\n",
    "def setpdfmetadata(fname,title, author, publisher, series, year):\n",
    "    command = \"exiftool -Title=\\\"{}\\\" -Author=\\\"{}\\\" -Year=\\\"{}\\\" -Publisher=\\\"{}\\\" -SeriesName=\\\"{}\\\" -overwrite_original \\\"{}\\\" \".format(title,author,year,publisher,series,fname)\n",
    "    print(\"doing: \"+command)\n",
    "    subprocess.call(command, shell=True)\n"
   ]
  },
  {
   "cell_type": "code",
   "execution_count": 42,
   "metadata": {},
   "outputs": [],
   "source": [
    "def doIt(fname):\n",
    "    md5 = getmd5sum(fname)\n",
    "    [title, author, publisher, series, year] = getdatafrommd5v2(md5)\n",
    "    if(title != -1):\n",
    "        setpdfmetadata(fname,title, author, publisher, series, year)\n",
    "    else:\n",
    "        print(\"nothing found for \"+fname)"
   ]
  },
  {
   "cell_type": "code",
   "execution_count": 44,
   "metadata": {
    "tags": []
   },
   "outputs": [
    {
     "output_type": "stream",
     "name": "stdout",
     "text": "http://gen.lib.rus.ec/book/index.php?md5=85e34758b582f816cdd767cc703bd5fb\ndoing: exiftool -Title=\"Advances in Battery Technologies for Electric Vehicles\" -Author=\"Bruno Scrosati, Jürgen Garche, Werner Tillmetz\" -Year=\"2015\" -Publisher=\"Woodhead Publishing\" -SeriesName=\"Woodhead Publishing Series in Energy\" \"input/Advances in Battery Technologies for Electric Vehicles by Bruno Scrosati, Jürgen Garche, Werner Tillmetz (z-lib.org).pdf\" \nhttp://gen.lib.rus.ec/book/index.php?md5=c2c5240eab819c3d31ef385728a2a955\ndoing: exiftool -Title=\"Emotional Design: Why We Love (Or Hate) Everyday Things\" -Author=\"Donald A. Norman\" -Year=\"2005\" -Publisher=\"Basic Books\" -SeriesName=\"nan\" \"input/Emotional Design Why We Love (Or Hate) Everyday Things by Donald A. Norman (z-lib.org).pdf\" \nhttp://gen.lib.rus.ec/book/index.php?md5=25334ce178953792df9684c784953114\ndoing: exiftool -Title=\"Python for Finance Cookbook: Over 50 recipes for applying modern Python libraries to quantitative finance to analyze data\" -Author=\"Eryk Lewinson\" -Year=\"2020\" -Publisher=\"Packt Publishing\" -SeriesName=\"nan\" \"input/Eryk Lewinson - Python for Finance Cookbook_ Over 50 recipes for applying modern Python libraries to quantitative finance to analyze data-Packt Publishing (2020).pdf\" \nhttp://gen.lib.rus.ec/book/index.php?md5=3bb85e5b27bad612227e57430b09a902\ndoing: exiftool -Title=\"Game theory: a very short introduction\" -Author=\"Ken Binmore\" -Year=\"2007\" -Publisher=\"Oxford University Press\" -SeriesName=\"Very Short Introductions\" \"input/Game Theory A Very Short Introduction by Ken Binmore (z-lib.org).pdf\" \nhttp://gen.lib.rus.ec/book/index.php?md5=e1b452a771ffb09f11b28c439665c7a4\ndoing: exiftool -Title=\"India's Financial Markets: An Insider's Guide to How the Markets Work\" -Author=\"Ajay Shah, Susan Thomas, Michael Gorham\" -Year=\"2008\" -Publisher=\"Elsevier Science\" -SeriesName=\"Elsevier and IIT Stuart Center for Financial Markets Press\" \"input/Indias Financial Markets An Insiders Guide to How the Markets Work by Ajay Shah, Susan Thomas, Michael Gorham (z-lib.org).pdf\" \nhttp://gen.lib.rus.ec/book/index.php?md5=6ab7b90fb3aac5c881cf3db100b90036\ndoing: exiftool -Title=\"Nmap: Network Exploration and Security Auditing Cookbook - Second Edition: Network discovery and security scanning at your fingertips\" -Author=\"Paulino Calderon\" -Year=\"2017\" -Publisher=\"Packt Publishing\" -SeriesName=\"nan\" \"input/Nmap Network Exploration and Security Auditing Cookbook - Second Edition Network discovery and security scanning at your fingertips by Paulino Calderon (z-lib.org).pdf\" \nhttp://gen.lib.rus.ec/book/index.php?md5=994745315bf6cb5f416c56c0a42d79e2\ndoing: exiftool -Title=\"Python for Finance: Analyze Big Financial Data\" -Author=\"Yves Hilpisch\" -Year=\"2014\" -Publisher=\"O'Reilly Media\" -SeriesName=\"nan\" \"input/Python for Finance Analyze Big Financial Data by Yves Hilpisch (z-lib.org).pdf\" \nhttp://gen.lib.rus.ec/book/index.php?md5=0560cf60528e817cd8c87555bcd57c9c\ndoing: exiftool -Title=\"Web Scraping with Python: Collecting More Data from the Modern Web\" -Author=\"Ryan Mitchell\" -Year=\"2018\" -Publisher=\"O’Reilly Media\" -SeriesName=\"nan\" \"input/Ryan Mitchell - Web Scraping with Python_ Collecting More Data from the Modern Web-O’Reilly Media (2018).pdf\" \nhttp://gen.lib.rus.ec/book/index.php?md5=af427eade5be3f88c09f6a8633a88fec\ndoing: exiftool -Title=\"The Dark Side of Valuation: Valuing Young, Distressed, and Complex Businesses (2nd Edition)\" -Author=\"Aswath Damodaran\" -Year=\"2010\" -Publisher=\"FT Press\" -SeriesName=\"nan\" \"input/The Dark Side of Valuation Valuing Young, Distressed, and Complex Businesses (2nd Edition) by Aswath Damodaran (z-lib.org).pdf\" \nhttp://gen.lib.rus.ec/book/index.php?md5=4bb8d08a9b309df7d86e62ec4056ceef\ndoing: exiftool -Title=\"The Design of Everyday Things - Revised and Expanded Edition\" -Author=\"Don Norman\" -Year=\"2013\" -Publisher=\"Basic Books\" -SeriesName=\"nan\" \"input/The Design of Everyday Things by Don Norman (z-lib.org).pdf\" \n"
    }
   ],
   "source": [
    "for file in os.listdir('input'):\n",
    "    if not file.endswith(\".pdf\"):\n",
    "        continue\n",
    "    doIt('input/'+file)"
   ]
  },
  {
   "cell_type": "markdown",
   "metadata": {},
   "source": [
    "# WorkBench"
   ]
  },
  {
   "cell_type": "code",
   "execution_count": 140,
   "metadata": {
    "tags": []
   },
   "outputs": [
    {
     "output_type": "stream",
     "name": "stdout",
     "text": "8dc0943ec67ae47fde3fa70e29a93271\n"
    }
   ],
   "source": [
    "ans = getmd5sum('a.pdf')\n",
    "print(ans)"
   ]
  },
  {
   "cell_type": "code",
   "execution_count": null,
   "metadata": {
    "tags": []
   },
   "outputs": [],
   "source": [
    "[title, author, publisher, series, year] = getdatafrommd5v2('bfd37427ea4784d215ddb4c4da49ca05')"
   ]
  },
  {
   "cell_type": "code",
   "execution_count": null,
   "metadata": {},
   "outputs": [],
   "source": [
    "table=test[0]\n",
    "\n"
   ]
  },
  {
   "cell_type": "code",
   "execution_count": null,
   "metadata": {},
   "outputs": [],
   "source": [
    " ans = table.loc[table[1] == 'Title:',2]\n"
   ]
  },
  {
   "cell_type": "code",
   "execution_count": null,
   "metadata": {},
   "outputs": [],
   "source": [
    "ans.to_string()"
   ]
  },
  {
   "cell_type": "code",
   "execution_count": null,
   "metadata": {},
   "outputs": [],
   "source": [
    "ans.tolist()[0]"
   ]
  },
  {
   "cell_type": "code",
   "execution_count": null,
   "metadata": {},
   "outputs": [],
   "source": [
    "title"
   ]
  },
  {
   "cell_type": "code",
   "execution_count": null,
   "metadata": {
    "tags": []
   },
   "outputs": [],
   "source": [
    "setpdfmetadata('a.pdf',title, author, publisher, series, year)"
   ]
  },
  {
   "cell_type": "code",
   "execution_count": null,
   "metadata": {},
   "outputs": [],
   "source": [
    "\n",
    "str(series)"
   ]
  },
  {
   "cell_type": "code",
   "execution_count": 9,
   "metadata": {
    "tags": []
   },
   "outputs": [
    {
     "output_type": "stream",
     "name": "stdout",
     "text": "http://gen.lib.rus.ec/book/index.php?md5=c2c5240eab819c3d31ef385728a2a955\n"
    },
    {
     "output_type": "error",
     "ename": "PdfReadError",
     "evalue": "file has not been decrypted",
     "traceback": [
      "\u001b[0;31m---------------------------------------------------------------------------\u001b[0m",
      "\u001b[0;31mPdfReadError\u001b[0m                              Traceback (most recent call last)",
      "\u001b[0;32m<ipython-input-9-efef49620ed4>\u001b[0m in \u001b[0;36m<module>\u001b[0;34m\u001b[0m\n\u001b[0;32m----> 1\u001b[0;31m \u001b[0mdoIt\u001b[0m\u001b[0;34m(\u001b[0m\u001b[0;34m\"Emotional Design Why We Love (Or Hate) Everyday Things by Donald A. Norman (z-lib.org).pdf\"\u001b[0m\u001b[0;34m)\u001b[0m\u001b[0;34m\u001b[0m\u001b[0;34m\u001b[0m\u001b[0m\n\u001b[0m",
      "\u001b[0;32m<ipython-input-7-e35010ecadcc>\u001b[0m in \u001b[0;36mdoIt\u001b[0;34m(fname)\u001b[0m\n\u001b[1;32m      3\u001b[0m     \u001b[0;34m[\u001b[0m\u001b[0mtitle\u001b[0m\u001b[0;34m,\u001b[0m \u001b[0mauthor\u001b[0m\u001b[0;34m,\u001b[0m \u001b[0mpublisher\u001b[0m\u001b[0;34m,\u001b[0m \u001b[0mseries\u001b[0m\u001b[0;34m,\u001b[0m \u001b[0myear\u001b[0m\u001b[0;34m]\u001b[0m \u001b[0;34m=\u001b[0m \u001b[0mgetdatafrommd5v2\u001b[0m\u001b[0;34m(\u001b[0m\u001b[0mmd5\u001b[0m\u001b[0;34m)\u001b[0m\u001b[0;34m\u001b[0m\u001b[0;34m\u001b[0m\u001b[0m\n\u001b[1;32m      4\u001b[0m     \u001b[0;32mif\u001b[0m\u001b[0;34m(\u001b[0m\u001b[0mtitle\u001b[0m \u001b[0;34m!=\u001b[0m \u001b[0;34m-\u001b[0m\u001b[0;36m1\u001b[0m\u001b[0;34m)\u001b[0m\u001b[0;34m:\u001b[0m\u001b[0;34m\u001b[0m\u001b[0;34m\u001b[0m\u001b[0m\n\u001b[0;32m----> 5\u001b[0;31m         \u001b[0msetpdfmetadata\u001b[0m\u001b[0;34m(\u001b[0m\u001b[0mfname\u001b[0m\u001b[0;34m,\u001b[0m\u001b[0mtitle\u001b[0m\u001b[0;34m,\u001b[0m \u001b[0mauthor\u001b[0m\u001b[0;34m,\u001b[0m \u001b[0mpublisher\u001b[0m\u001b[0;34m,\u001b[0m \u001b[0mseries\u001b[0m\u001b[0;34m,\u001b[0m \u001b[0myear\u001b[0m\u001b[0;34m)\u001b[0m\u001b[0;34m\u001b[0m\u001b[0;34m\u001b[0m\u001b[0m\n\u001b[0m\u001b[1;32m      6\u001b[0m     \u001b[0;32melse\u001b[0m\u001b[0;34m:\u001b[0m\u001b[0;34m\u001b[0m\u001b[0;34m\u001b[0m\u001b[0m\n\u001b[1;32m      7\u001b[0m         \u001b[0mprint\u001b[0m\u001b[0;34m(\u001b[0m\u001b[0;34m\"nothing found for \"\u001b[0m\u001b[0;34m+\u001b[0m\u001b[0mfname\u001b[0m\u001b[0;34m)\u001b[0m\u001b[0;34m\u001b[0m\u001b[0;34m\u001b[0m\u001b[0m\n",
      "\u001b[0;32m<ipython-input-5-fbbe9f1bef92>\u001b[0m in \u001b[0;36msetpdfmetadata\u001b[0;34m(file, title, author, publisher, series, year)\u001b[0m\n\u001b[1;32m      3\u001b[0m     \u001b[0mfile_in\u001b[0m \u001b[0;34m=\u001b[0m \u001b[0mopen\u001b[0m\u001b[0;34m(\u001b[0m\u001b[0mfile\u001b[0m\u001b[0;34m,\u001b[0m \u001b[0;34m'rb'\u001b[0m\u001b[0;34m)\u001b[0m\u001b[0;34m\u001b[0m\u001b[0;34m\u001b[0m\u001b[0m\n\u001b[1;32m      4\u001b[0m     \u001b[0mpdf_reader\u001b[0m \u001b[0;34m=\u001b[0m \u001b[0mPdfFileReader\u001b[0m\u001b[0;34m(\u001b[0m\u001b[0mfile_in\u001b[0m\u001b[0;34m)\u001b[0m\u001b[0;34m\u001b[0m\u001b[0;34m\u001b[0m\u001b[0m\n\u001b[0;32m----> 5\u001b[0;31m     \u001b[0mmetadata\u001b[0m \u001b[0;34m=\u001b[0m \u001b[0mpdf_reader\u001b[0m\u001b[0;34m.\u001b[0m\u001b[0mgetDocumentInfo\u001b[0m\u001b[0;34m(\u001b[0m\u001b[0;34m)\u001b[0m\u001b[0;34m\u001b[0m\u001b[0;34m\u001b[0m\u001b[0m\n\u001b[0m\u001b[1;32m      6\u001b[0m     \u001b[0mpprint\u001b[0m\u001b[0;34m.\u001b[0m\u001b[0mpprint\u001b[0m\u001b[0;34m(\u001b[0m\u001b[0mmetadata\u001b[0m\u001b[0;34m)\u001b[0m\u001b[0;34m\u001b[0m\u001b[0;34m\u001b[0m\u001b[0m\n\u001b[1;32m      7\u001b[0m \u001b[0;34m\u001b[0m\u001b[0m\n",
      "\u001b[0;32m~/.local/lib/python3.8/site-packages/PyPDF2/pdf.py\u001b[0m in \u001b[0;36mgetDocumentInfo\u001b[0;34m(self)\u001b[0m\n\u001b[1;32m   1099\u001b[0m         \u001b[0;32mif\u001b[0m \u001b[0;34m\"/Info\"\u001b[0m \u001b[0;32mnot\u001b[0m \u001b[0;32min\u001b[0m \u001b[0mself\u001b[0m\u001b[0;34m.\u001b[0m\u001b[0mtrailer\u001b[0m\u001b[0;34m:\u001b[0m\u001b[0;34m\u001b[0m\u001b[0;34m\u001b[0m\u001b[0m\n\u001b[1;32m   1100\u001b[0m             \u001b[0;32mreturn\u001b[0m \u001b[0;32mNone\u001b[0m\u001b[0;34m\u001b[0m\u001b[0;34m\u001b[0m\u001b[0m\n\u001b[0;32m-> 1101\u001b[0;31m         \u001b[0mobj\u001b[0m \u001b[0;34m=\u001b[0m \u001b[0mself\u001b[0m\u001b[0;34m.\u001b[0m\u001b[0mtrailer\u001b[0m\u001b[0;34m[\u001b[0m\u001b[0;34m'/Info'\u001b[0m\u001b[0;34m]\u001b[0m\u001b[0;34m\u001b[0m\u001b[0;34m\u001b[0m\u001b[0m\n\u001b[0m\u001b[1;32m   1102\u001b[0m         \u001b[0mretval\u001b[0m \u001b[0;34m=\u001b[0m \u001b[0mDocumentInformation\u001b[0m\u001b[0;34m(\u001b[0m\u001b[0;34m)\u001b[0m\u001b[0;34m\u001b[0m\u001b[0;34m\u001b[0m\u001b[0m\n\u001b[1;32m   1103\u001b[0m         \u001b[0mretval\u001b[0m\u001b[0;34m.\u001b[0m\u001b[0mupdate\u001b[0m\u001b[0;34m(\u001b[0m\u001b[0mobj\u001b[0m\u001b[0;34m)\u001b[0m\u001b[0;34m\u001b[0m\u001b[0;34m\u001b[0m\u001b[0m\n",
      "\u001b[0;32m~/.local/lib/python3.8/site-packages/PyPDF2/generic.py\u001b[0m in \u001b[0;36m__getitem__\u001b[0;34m(self, key)\u001b[0m\n\u001b[1;32m    514\u001b[0m \u001b[0;34m\u001b[0m\u001b[0m\n\u001b[1;32m    515\u001b[0m     \u001b[0;32mdef\u001b[0m \u001b[0m__getitem__\u001b[0m\u001b[0;34m(\u001b[0m\u001b[0mself\u001b[0m\u001b[0;34m,\u001b[0m \u001b[0mkey\u001b[0m\u001b[0;34m)\u001b[0m\u001b[0;34m:\u001b[0m\u001b[0;34m\u001b[0m\u001b[0;34m\u001b[0m\u001b[0m\n\u001b[0;32m--> 516\u001b[0;31m         \u001b[0;32mreturn\u001b[0m \u001b[0mdict\u001b[0m\u001b[0;34m.\u001b[0m\u001b[0m__getitem__\u001b[0m\u001b[0;34m(\u001b[0m\u001b[0mself\u001b[0m\u001b[0;34m,\u001b[0m \u001b[0mkey\u001b[0m\u001b[0;34m)\u001b[0m\u001b[0;34m.\u001b[0m\u001b[0mgetObject\u001b[0m\u001b[0;34m(\u001b[0m\u001b[0;34m)\u001b[0m\u001b[0;34m\u001b[0m\u001b[0;34m\u001b[0m\u001b[0m\n\u001b[0m\u001b[1;32m    517\u001b[0m \u001b[0;34m\u001b[0m\u001b[0m\n\u001b[1;32m    518\u001b[0m     \u001b[0;31m##\u001b[0m\u001b[0;34m\u001b[0m\u001b[0;34m\u001b[0m\u001b[0;34m\u001b[0m\u001b[0m\n",
      "\u001b[0;32m~/.local/lib/python3.8/site-packages/PyPDF2/generic.py\u001b[0m in \u001b[0;36mgetObject\u001b[0;34m(self)\u001b[0m\n\u001b[1;32m    176\u001b[0m \u001b[0;34m\u001b[0m\u001b[0m\n\u001b[1;32m    177\u001b[0m     \u001b[0;32mdef\u001b[0m \u001b[0mgetObject\u001b[0m\u001b[0;34m(\u001b[0m\u001b[0mself\u001b[0m\u001b[0;34m)\u001b[0m\u001b[0;34m:\u001b[0m\u001b[0;34m\u001b[0m\u001b[0;34m\u001b[0m\u001b[0m\n\u001b[0;32m--> 178\u001b[0;31m         \u001b[0;32mreturn\u001b[0m \u001b[0mself\u001b[0m\u001b[0;34m.\u001b[0m\u001b[0mpdf\u001b[0m\u001b[0;34m.\u001b[0m\u001b[0mgetObject\u001b[0m\u001b[0;34m(\u001b[0m\u001b[0mself\u001b[0m\u001b[0;34m)\u001b[0m\u001b[0;34m.\u001b[0m\u001b[0mgetObject\u001b[0m\u001b[0;34m(\u001b[0m\u001b[0;34m)\u001b[0m\u001b[0;34m\u001b[0m\u001b[0;34m\u001b[0m\u001b[0m\n\u001b[0m\u001b[1;32m    179\u001b[0m \u001b[0;34m\u001b[0m\u001b[0m\n\u001b[1;32m    180\u001b[0m     \u001b[0;32mdef\u001b[0m \u001b[0m__repr__\u001b[0m\u001b[0;34m(\u001b[0m\u001b[0mself\u001b[0m\u001b[0;34m)\u001b[0m\u001b[0;34m:\u001b[0m\u001b[0;34m\u001b[0m\u001b[0;34m\u001b[0m\u001b[0m\n",
      "\u001b[0;32m~/.local/lib/python3.8/site-packages/PyPDF2/pdf.py\u001b[0m in \u001b[0;36mgetObject\u001b[0;34m(self, indirectReference)\u001b[0m\n\u001b[1;32m   1615\u001b[0m                 \u001b[0;31m# if we don't have the encryption key:\u001b[0m\u001b[0;34m\u001b[0m\u001b[0;34m\u001b[0m\u001b[0;34m\u001b[0m\u001b[0m\n\u001b[1;32m   1616\u001b[0m                 \u001b[0;32mif\u001b[0m \u001b[0;32mnot\u001b[0m \u001b[0mhasattr\u001b[0m\u001b[0;34m(\u001b[0m\u001b[0mself\u001b[0m\u001b[0;34m,\u001b[0m \u001b[0;34m'_decryption_key'\u001b[0m\u001b[0;34m)\u001b[0m\u001b[0;34m:\u001b[0m\u001b[0;34m\u001b[0m\u001b[0;34m\u001b[0m\u001b[0m\n\u001b[0;32m-> 1617\u001b[0;31m                     \u001b[0;32mraise\u001b[0m \u001b[0mutils\u001b[0m\u001b[0;34m.\u001b[0m\u001b[0mPdfReadError\u001b[0m\u001b[0;34m(\u001b[0m\u001b[0;34m\"file has not been decrypted\"\u001b[0m\u001b[0;34m)\u001b[0m\u001b[0;34m\u001b[0m\u001b[0;34m\u001b[0m\u001b[0m\n\u001b[0m\u001b[1;32m   1618\u001b[0m                 \u001b[0;31m# otherwise, decrypt here...\u001b[0m\u001b[0;34m\u001b[0m\u001b[0;34m\u001b[0m\u001b[0;34m\u001b[0m\u001b[0m\n\u001b[1;32m   1619\u001b[0m                 \u001b[0;32mimport\u001b[0m \u001b[0mstruct\u001b[0m\u001b[0;34m\u001b[0m\u001b[0;34m\u001b[0m\u001b[0m\n",
      "\u001b[0;31mPdfReadError\u001b[0m: file has not been decrypted"
     ]
    }
   ],
   "source": [
    "doIt(\"Emotional Design Why We Love (Or Hate) Everyday Things by Donald A. Norman (z-lib.org).pdf\")"
   ]
  },
  {
   "cell_type": "code",
   "execution_count": 13,
   "metadata": {},
   "outputs": [
    {
     "output_type": "execute_result",
     "data": {
      "text/plain": "0"
     },
     "metadata": {},
     "execution_count": 13
    }
   ],
   "source": [
    "os.system(\"ls\")"
   ]
  },
  {
   "cell_type": "code",
   "execution_count": null,
   "metadata": {},
   "outputs": [],
   "source": []
  }
 ]
}