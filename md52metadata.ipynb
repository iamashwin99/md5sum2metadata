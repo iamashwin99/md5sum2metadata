{
 "metadata": {
  "language_info": {
   "codemirror_mode": {
    "name": "ipython",
    "version": 3
   },
   "file_extension": ".py",
   "mimetype": "text/x-python",
   "name": "python",
   "nbconvert_exporter": "python",
   "pygments_lexer": "ipython3",
   "version": "3.8.3-final"
  },
  "orig_nbformat": 2,
  "kernelspec": {
   "name": "python38364bit78b253baab34452c82528f50c849c4a8",
   "display_name": "Python 3.8.3 64-bit"
  }
 },
 "nbformat": 4,
 "nbformat_minor": 2,
 "cells": [
  {
   "cell_type": "code",
   "execution_count": null,
   "metadata": {},
   "outputs": [],
   "source": [
    "##Imports\n",
    "import hashlib\n",
    "import os\n",
    "import requests\n",
    "from bs4 import BeautifulSoup \n",
    "import pandas as pd\n",
    "import pprint\n",
    "from PyPDF2 import PdfFileReader, PdfFileMerger"
   ]
  },
  {
   "cell_type": "code",
   "execution_count": null,
   "metadata": {},
   "outputs": [],
   "source": [
    "def getmd5sum(filename):\n",
    "\n",
    "    md5_hash = hashlib.md5()\n",
    "    a_file = open(filename, \"rb\")\n",
    "    content = a_file.read()\n",
    "    md5_hash.update(content)\n",
    "    digest = md5_hash.hexdigest()\n",
    "    return digest"
   ]
  },
  {
   "cell_type": "code",
   "execution_count": null,
   "metadata": {},
   "outputs": [],
   "source": [
    "def getdatafrommd5(md5):\n",
    "    url ='http://gen.lib.rus.ec/book/index.php?md5=' +md5\n",
    "    page = requests.get(url) \n",
    "    contents = page.content \n",
    "    soup = BeautifulSoup(contents, 'html.parser')\n",
    "    a=soup.body.table.tbody\n",
    "    #a = soup.find(id='bibtext')\n",
    "    print(a)\n",
    "    return #[title, author, publisher, series, year]"
   ]
  },
  {
   "cell_type": "code",
   "execution_count": null,
   "metadata": {},
   "outputs": [],
   "source": [
    "def getdatafrommd5v2(md5):\n",
    "    url ='http://gen.lib.rus.ec/book/index.php?md5=' +md5\n",
    "    print(url)\n",
    "    r = requests.get(url)\n",
    "    if(r.text == \"No record with such MD5 hash has been found</body></html>\"):\n",
    "        return  [-1, -1, -1, -1, -1]\n",
    "    df_list = pd.read_html(r.text) # this parses all the tables in webpages to a list\n",
    "    table = df_list[0]\n",
    "    title = table.loc[table[1] == 'Title:',2].tolist()[0]\n",
    "    author = table.loc[table[1] == 'Author(s):',2].tolist()[0]\n",
    "    publisher = table.loc[table[1] == 'Publisher:',2].tolist()[0]\n",
    "    series = table.loc[table[1] == 'Series:',2].tolist()[0]\n",
    "    year = table.loc[table[1] == 'Year:',2].tolist()[0]\n",
    "    return  [title, author, publisher, series, year]"
   ]
  },
  {
   "cell_type": "code",
   "execution_count": null,
   "metadata": {},
   "outputs": [],
   "source": [
    "def setpdfmetadata(file,title, author, publisher, series, year):\n",
    "    newfname='new_'+file\n",
    "    file_in = open(file, 'rb')\n",
    "    pdf_reader = PdfFileReader(file_in)\n",
    "    metadata = pdf_reader.getDocumentInfo()\n",
    "    pprint.pprint(metadata)\n",
    "\n",
    "    pdf_merger = PdfFileMerger()\n",
    "    pdf_merger.append(file_in)\n",
    "    pdf_merger.addMetadata({\n",
    "        u'/Author': author,\n",
    "        u'/Title': title,\n",
    "        u'/Publisher':str(publisher),\n",
    "        u'/Series':str(series),\n",
    "        u'/Year':str(year)\n",
    "    })\n",
    "    file_out = open(newfname, 'wb')\n",
    "    pdf_merger.write(file_out)\n",
    "    file_in.close()\n",
    "    file_out.close()\n",
    "  #  with open(file) as f:\n",
    "   #     f.fileinfo = {'title': title,'author':author,'publisher':publisher,'series':series,'year':year}\n",
    "\n",
    "\n"
   ]
  },
  {
   "cell_type": "code",
   "execution_count": null,
   "metadata": {},
   "outputs": [],
   "source": [
    "#For file\n",
    "#get md5\n",
    "#get metadata \n",
    "#set metadata"
   ]
  },
  {
   "cell_type": "code",
   "execution_count": null,
   "metadata": {},
   "outputs": [],
   "source": [
    "def doIt(fname):\n",
    "    md5 = getmd5sum(fname)\n",
    "    [title, author, publisher, series, year] = getdatafrommd5v2(md5)\n",
    "    if(title != -1):\n",
    "        setpdfmetadata(fname,title, author, publisher, series, year)\n",
    "    else:\n",
    "        print(\"nothing found for \"+fname)"
   ]
  },
  {
   "cell_type": "markdown",
   "metadata": {},
   "source": [
    "# WorkBench"
   ]
  },
  {
   "cell_type": "code",
   "execution_count": 140,
   "metadata": {
    "tags": []
   },
   "outputs": [
    {
     "output_type": "stream",
     "name": "stdout",
     "text": "8dc0943ec67ae47fde3fa70e29a93271\n"
    }
   ],
   "source": [
    "ans = getmd5sum('a.pdf')\n",
    "print(ans)"
   ]
  },
  {
   "cell_type": "code",
   "execution_count": null,
   "metadata": {
    "tags": []
   },
   "outputs": [],
   "source": [
    "[title, author, publisher, series, year] = getdatafrommd5v2('bfd37427ea4784d215ddb4c4da49ca05')"
   ]
  },
  {
   "cell_type": "code",
   "execution_count": null,
   "metadata": {},
   "outputs": [],
   "source": [
    "table=test[0]\n",
    "\n"
   ]
  },
  {
   "cell_type": "code",
   "execution_count": null,
   "metadata": {},
   "outputs": [],
   "source": [
    " ans = table.loc[table[1] == 'Title:',2]\n"
   ]
  },
  {
   "cell_type": "code",
   "execution_count": null,
   "metadata": {},
   "outputs": [],
   "source": [
    "ans.to_string()"
   ]
  },
  {
   "cell_type": "code",
   "execution_count": null,
   "metadata": {},
   "outputs": [],
   "source": [
    "ans.tolist()[0]"
   ]
  },
  {
   "cell_type": "code",
   "execution_count": null,
   "metadata": {},
   "outputs": [],
   "source": [
    "title"
   ]
  },
  {
   "cell_type": "code",
   "execution_count": null,
   "metadata": {
    "tags": []
   },
   "outputs": [],
   "source": [
    "setpdfmetadata('a.pdf',title, author, publisher, series, year)"
   ]
  },
  {
   "cell_type": "code",
   "execution_count": null,
   "metadata": {},
   "outputs": [],
   "source": [
    "\n",
    "str(series)"
   ]
  },
  {
   "cell_type": "code",
   "execution_count": 141,
   "metadata": {
    "tags": []
   },
   "outputs": [
    {
     "output_type": "stream",
     "name": "stdout",
     "text": "http://gen.lib.rus.ec/book/index.php?md5=cab392f9ad11585a60fe4d590c5c0500\n{'/CreationDate': \"D:20170906134155+01'00'\",\n '/Creator': 'Adobe InDesign CS5.5 (7.5)',\n '/EBX_PUBLISHER': '/McGraw-Hill#20Education',\n '/ModDate': \"D:20171104104559+01'00'\",\n '/PXCViewerInfo': 'PDF-XChange Viewer;2.5.201.0;Jan 23 '\n                   \"2012;21:08:47;D:20171104103739+01'00'\",\n '/Producer': 'PDF-XChange (PDFTools4.exe v4.0.0201.0000) (Windows XP)',\n '/Trapped': '/False',\n '/Universal': 'The process that creates this PDF constitutes a trade secret '\n               'of codeMantra, LLC and is protected by the copyright laws of '\n               'the United States',\n '/codeMantra,': 'http://www.codemantra.com'}\n"
    }
   ],
   "source": [
    "doIt('b.pdf')"
   ]
  },
  {
   "cell_type": "code",
   "execution_count": null,
   "metadata": {},
   "outputs": [],
   "source": []
  }
 ]
}